{
 "cells": [
  {
   "cell_type": "code",
   "execution_count": 3,
   "id": "d7e72064-2df4-4b51-aa9d-32b05bf36cb2",
   "metadata": {},
   "outputs": [],
   "source": [
    "from skimage.color import rgb2ycbcr, rgb2lab, rgb2gray\n",
    "from skimage.io import imread\n",
    "import matplotlib.pyplot as plt\n",
    "import numpy as np\n",
    "from sklearn.cluster import KMeans\n",
    "\n",
    "from scipy.fftpack import dct\n",
    "from skimage.metrics import peak_signal_noise_ratio as PSNR\n",
    "\n",
    "def sub2ind(n_row, row, col):\n",
    "  return n_row * col + row\n",
    "\n",
    "def dctmtx(N):\n",
    "  return dct(np.eye(N), norm='ortho', axis=0)\n",
    "\n",
    "def func(x, mat):\n",
    "  return mat @ x @ mat.T\n",
    "\n",
    "def func1(x, mat):\n",
    "  return np.multiply(mat, x)\n",
    "\n",
    "def blockproc(im, mat, block_sz, func):\n",
    "    h, w = im.shape\n",
    "    m, n = block_sz\n",
    "    im_out = np.zeros_like(im)\n",
    "    for x in range(0, h, m):\n",
    "        for y in range(0, w, n):\n",
    "            block = im[x:x+m, y:y+n]\n",
    "            im_out[x:x+m, y:y+n] = func(block, mat)\n",
    "    return im_out"
   ]
  }
 ],
 "metadata": {
  "kernelspec": {
   "display_name": "Python 3 (ipykernel)",
   "language": "python",
   "name": "python3"
  },
  "language_info": {
   "codemirror_mode": {
    "name": "ipython",
    "version": 3
   },
   "file_extension": ".py",
   "mimetype": "text/x-python",
   "name": "python",
   "nbconvert_exporter": "python",
   "pygments_lexer": "ipython3",
   "version": "3.11.6"
  }
 },
 "nbformat": 4,
 "nbformat_minor": 5
}
